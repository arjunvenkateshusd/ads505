{
 "cells": [
  {
   "cell_type": "markdown",
   "id": "72dc0310",
   "metadata": {},
   "source": [
    "# Final Team Project - SliceWise: Pricing, Menu, and Ratings Analytics for U.S. Pizza Restaurants "
   ]
  },
  {
   "cell_type": "markdown",
   "id": "c8541618",
   "metadata": {},
   "source": [
    "### Team 9: Duy-Anh Dang, Arjun Venkatesh, and Nanch Walker \n",
    "\n",
    "Course: ADS 505 Applied Data Science for Business\n",
    "\n",
    "Instructor: Jules Malin"
   ]
  },
  {
   "cell_type": "markdown",
   "id": "c1bf0832",
   "metadata": {},
   "source": [
    "## Introduction"
   ]
  },
  {
   "cell_type": "markdown",
   "id": "38f9bbe2",
   "metadata": {},
   "source": [
    "## Problem Statement"
   ]
  },
  {
   "cell_type": "markdown",
   "id": "b19c46ff",
   "metadata": {},
   "source": [
    "Using the Datafiniti “Pizza Restaurants and the Pizza They Sell (May 2019)” dataset, we will deliver pricing and assortment insights for pizza operators.  \n",
    "\n",
    "Objectives: \n",
    "\n",
    " \n",
    "\n",
    "    Profile geographic coverage and market density. \n",
    "\n",
    "    Quantify price corridors (store-level priceRangeMin/Max; item-level menus.amountMin/Max). \n",
    "\n",
    "    Identify outliers and dispersion by state/city and common SKUs. \n",
    "\n",
    "    Provide executive recommendations on pricing, assortment focus, and expansion targets. "
   ]
  },
  {
   "cell_type": "markdown",
   "id": "d13f4ce2",
   "metadata": {},
   "source": [
    "## Exploratory Data Analysis"
   ]
  },
  {
   "cell_type": "code",
   "execution_count": 1,
   "id": "bccbd54d",
   "metadata": {},
   "outputs": [
    {
     "name": "stderr",
     "output_type": "stream",
     "text": [
      "/opt/homebrew/lib/python3.10/site-packages/tqdm/auto.py:21: TqdmWarning: IProgress not found. Please update jupyter and ipywidgets. See https://ipywidgets.readthedocs.io/en/stable/user_install.html\n",
      "  from .autonotebook import tqdm as notebook_tqdm\n"
     ]
    }
   ],
   "source": [
    "# Import Libraries\n",
    "import pandas as pd\n",
    "import numpy as np\n",
    "import matplotlib.pyplot as plt\n",
    "import seaborn as sns\n",
    "\n",
    "import kagglehub\n",
    "import os "
   ]
  },
  {
   "cell_type": "code",
   "execution_count": 2,
   "id": "85a7a267",
   "metadata": {},
   "outputs": [
    {
     "name": "stdout",
     "output_type": "stream",
     "text": [
      "Warning: Looks like you're using an outdated `kagglehub` version (installed: 0.3.11), please consider upgrading to the latest version (0.3.13).\n",
      "Path to dataset files: /Users/nancywalker/.cache/kagglehub/datasets/datafiniti/pizza-restaurants-and-the-pizza-they-sell/versions/2\n"
     ]
    }
   ],
   "source": [
    "# Download latest version\n",
    "path = kagglehub.dataset_download(\"datafiniti/pizza-restaurants-and-the-pizza-they-sell\")\n",
    "\n",
    "print(\"Path to dataset files:\", path)"
   ]
  },
  {
   "cell_type": "code",
   "execution_count": 3,
   "id": "c3cddc8e",
   "metadata": {},
   "outputs": [],
   "source": [
    "#Files downloaded\n",
    "files = os.listdir(path)"
   ]
  },
  {
   "cell_type": "code",
   "execution_count": 4,
   "id": "1f69f77a",
   "metadata": {},
   "outputs": [],
   "source": [
    "# Select the first CSV file (assuming it exists)\n",
    "csv_files = [f for f in files if f.endswith(\".csv\")] # Get all CSV file\n",
    "\n",
    "# Load the first CSV file found\n",
    "data1 = pd.read_csv(os.path.join(path, csv_files[0]))\n",
    "\n",
    "# Load the second dataset\n",
    "data2 = pd.read_csv(os.path.join(path, csv_files[1]))"
   ]
  },
  {
   "cell_type": "code",
   "execution_count": 5,
   "id": "e7ce6139",
   "metadata": {},
   "outputs": [
    {
     "data": {
      "text/html": [
       "<div>\n",
       "<style scoped>\n",
       "    .dataframe tbody tr th:only-of-type {\n",
       "        vertical-align: middle;\n",
       "    }\n",
       "\n",
       "    .dataframe tbody tr th {\n",
       "        vertical-align: top;\n",
       "    }\n",
       "\n",
       "    .dataframe thead th {\n",
       "        text-align: right;\n",
       "    }\n",
       "</style>\n",
       "<table border=\"1\" class=\"dataframe\">\n",
       "  <thead>\n",
       "    <tr style=\"text-align: right;\">\n",
       "      <th></th>\n",
       "      <th>id</th>\n",
       "      <th>address</th>\n",
       "      <th>categories</th>\n",
       "      <th>city</th>\n",
       "      <th>country</th>\n",
       "      <th>keys</th>\n",
       "      <th>latitude</th>\n",
       "      <th>longitude</th>\n",
       "      <th>menuPageURL</th>\n",
       "      <th>menus.amountMax</th>\n",
       "      <th>...</th>\n",
       "      <th>menus.currency</th>\n",
       "      <th>menus.dateSeen</th>\n",
       "      <th>menus.description</th>\n",
       "      <th>menus.name</th>\n",
       "      <th>name</th>\n",
       "      <th>postalCode</th>\n",
       "      <th>priceRangeCurrency</th>\n",
       "      <th>priceRangeMin</th>\n",
       "      <th>priceRangeMax</th>\n",
       "      <th>province</th>\n",
       "    </tr>\n",
       "  </thead>\n",
       "  <tbody>\n",
       "    <tr>\n",
       "      <th>0</th>\n",
       "      <td>AVwc_6KEIN2L1WUfrKAH</td>\n",
       "      <td>Cascade Village Mall Across From Target</td>\n",
       "      <td>Pizza Place</td>\n",
       "      <td>Bend</td>\n",
       "      <td>US</td>\n",
       "      <td>us/or/bend/cascadevillagemallacrossfromtarget/...</td>\n",
       "      <td>44.102665</td>\n",
       "      <td>-121.300797</td>\n",
       "      <td>NaN</td>\n",
       "      <td>22.50</td>\n",
       "      <td>...</td>\n",
       "      <td>USD</td>\n",
       "      <td>2016-03-31T02:19:42Z</td>\n",
       "      <td>NaN</td>\n",
       "      <td>Bianca Pizza</td>\n",
       "      <td>Little Pizza Paradise</td>\n",
       "      <td>97701</td>\n",
       "      <td>NaN</td>\n",
       "      <td>NaN</td>\n",
       "      <td>NaN</td>\n",
       "      <td>OR</td>\n",
       "    </tr>\n",
       "    <tr>\n",
       "      <th>1</th>\n",
       "      <td>AVwc_6KEIN2L1WUfrKAH</td>\n",
       "      <td>Cascade Village Mall Across From Target</td>\n",
       "      <td>Pizza Place</td>\n",
       "      <td>Bend</td>\n",
       "      <td>US</td>\n",
       "      <td>us/or/bend/cascadevillagemallacrossfromtarget/...</td>\n",
       "      <td>44.102665</td>\n",
       "      <td>-121.300797</td>\n",
       "      <td>NaN</td>\n",
       "      <td>18.95</td>\n",
       "      <td>...</td>\n",
       "      <td>USD</td>\n",
       "      <td>2016-03-31T02:19:42Z</td>\n",
       "      <td>NaN</td>\n",
       "      <td>Cheese Pizza</td>\n",
       "      <td>Little Pizza Paradise</td>\n",
       "      <td>97701</td>\n",
       "      <td>NaN</td>\n",
       "      <td>NaN</td>\n",
       "      <td>NaN</td>\n",
       "      <td>OR</td>\n",
       "    </tr>\n",
       "    <tr>\n",
       "      <th>2</th>\n",
       "      <td>AVwc_6qRByjofQCxkcxw</td>\n",
       "      <td>148 S Barrington Ave</td>\n",
       "      <td>American Restaurant,Bar,Bakery</td>\n",
       "      <td>Los Angeles</td>\n",
       "      <td>US</td>\n",
       "      <td>us/brentwood/losangeles/148sbarringtonave/-151...</td>\n",
       "      <td>34.064563</td>\n",
       "      <td>-118.469017</td>\n",
       "      <td>NaN</td>\n",
       "      <td>12.00</td>\n",
       "      <td>...</td>\n",
       "      <td>USD</td>\n",
       "      <td>2015-10-23T03:57:26Z</td>\n",
       "      <td>NaN</td>\n",
       "      <td>Pizza, Margherita</td>\n",
       "      <td>The Brentwood</td>\n",
       "      <td>90049</td>\n",
       "      <td>USD</td>\n",
       "      <td>50.0</td>\n",
       "      <td>55.0</td>\n",
       "      <td>Brentwood</td>\n",
       "    </tr>\n",
       "    <tr>\n",
       "      <th>3</th>\n",
       "      <td>AVwc_6qRByjofQCxkcxw</td>\n",
       "      <td>148 S Barrington Ave</td>\n",
       "      <td>American Restaurant,Bar,Bakery</td>\n",
       "      <td>Los Angeles</td>\n",
       "      <td>US</td>\n",
       "      <td>us/brentwood/losangeles/148sbarringtonave/-151...</td>\n",
       "      <td>34.064563</td>\n",
       "      <td>-118.469017</td>\n",
       "      <td>NaN</td>\n",
       "      <td>13.00</td>\n",
       "      <td>...</td>\n",
       "      <td>USD</td>\n",
       "      <td>2015-10-23T03:57:26Z</td>\n",
       "      <td>NaN</td>\n",
       "      <td>Pizza, Mushroom</td>\n",
       "      <td>The Brentwood</td>\n",
       "      <td>90049</td>\n",
       "      <td>USD</td>\n",
       "      <td>50.0</td>\n",
       "      <td>55.0</td>\n",
       "      <td>Brentwood</td>\n",
       "    </tr>\n",
       "    <tr>\n",
       "      <th>4</th>\n",
       "      <td>AVwc_6qRByjofQCxkcxw</td>\n",
       "      <td>148 S Barrington Ave</td>\n",
       "      <td>American Restaurant,Bar,Bakery</td>\n",
       "      <td>Los Angeles</td>\n",
       "      <td>US</td>\n",
       "      <td>us/brentwood/losangeles/148sbarringtonave/-151...</td>\n",
       "      <td>34.064563</td>\n",
       "      <td>-118.469017</td>\n",
       "      <td>NaN</td>\n",
       "      <td>13.00</td>\n",
       "      <td>...</td>\n",
       "      <td>USD</td>\n",
       "      <td>2015-10-23T03:57:26Z</td>\n",
       "      <td>Olives, onions, capers, tomatoes</td>\n",
       "      <td>Pizza, Puttenesca</td>\n",
       "      <td>The Brentwood</td>\n",
       "      <td>90049</td>\n",
       "      <td>USD</td>\n",
       "      <td>50.0</td>\n",
       "      <td>55.0</td>\n",
       "      <td>Brentwood</td>\n",
       "    </tr>\n",
       "  </tbody>\n",
       "</table>\n",
       "<p>5 rows × 21 columns</p>\n",
       "</div>"
      ],
      "text/plain": [
       "                     id                                  address  \\\n",
       "0  AVwc_6KEIN2L1WUfrKAH  Cascade Village Mall Across From Target   \n",
       "1  AVwc_6KEIN2L1WUfrKAH  Cascade Village Mall Across From Target   \n",
       "2  AVwc_6qRByjofQCxkcxw                     148 S Barrington Ave   \n",
       "3  AVwc_6qRByjofQCxkcxw                     148 S Barrington Ave   \n",
       "4  AVwc_6qRByjofQCxkcxw                     148 S Barrington Ave   \n",
       "\n",
       "                       categories         city country  \\\n",
       "0                     Pizza Place         Bend      US   \n",
       "1                     Pizza Place         Bend      US   \n",
       "2  American Restaurant,Bar,Bakery  Los Angeles      US   \n",
       "3  American Restaurant,Bar,Bakery  Los Angeles      US   \n",
       "4  American Restaurant,Bar,Bakery  Los Angeles      US   \n",
       "\n",
       "                                                keys   latitude   longitude  \\\n",
       "0  us/or/bend/cascadevillagemallacrossfromtarget/...  44.102665 -121.300797   \n",
       "1  us/or/bend/cascadevillagemallacrossfromtarget/...  44.102665 -121.300797   \n",
       "2  us/brentwood/losangeles/148sbarringtonave/-151...  34.064563 -118.469017   \n",
       "3  us/brentwood/losangeles/148sbarringtonave/-151...  34.064563 -118.469017   \n",
       "4  us/brentwood/losangeles/148sbarringtonave/-151...  34.064563 -118.469017   \n",
       "\n",
       "  menuPageURL  menus.amountMax  ...  menus.currency        menus.dateSeen  \\\n",
       "0         NaN            22.50  ...             USD  2016-03-31T02:19:42Z   \n",
       "1         NaN            18.95  ...             USD  2016-03-31T02:19:42Z   \n",
       "2         NaN            12.00  ...             USD  2015-10-23T03:57:26Z   \n",
       "3         NaN            13.00  ...             USD  2015-10-23T03:57:26Z   \n",
       "4         NaN            13.00  ...             USD  2015-10-23T03:57:26Z   \n",
       "\n",
       "                  menus.description         menus.name                   name  \\\n",
       "0                               NaN       Bianca Pizza  Little Pizza Paradise   \n",
       "1                               NaN       Cheese Pizza  Little Pizza Paradise   \n",
       "2                               NaN  Pizza, Margherita          The Brentwood   \n",
       "3                               NaN    Pizza, Mushroom          The Brentwood   \n",
       "4  Olives, onions, capers, tomatoes  Pizza, Puttenesca          The Brentwood   \n",
       "\n",
       "  postalCode priceRangeCurrency priceRangeMin  priceRangeMax   province  \n",
       "0      97701                NaN           NaN            NaN         OR  \n",
       "1      97701                NaN           NaN            NaN         OR  \n",
       "2      90049                USD          50.0           55.0  Brentwood  \n",
       "3      90049                USD          50.0           55.0  Brentwood  \n",
       "4      90049                USD          50.0           55.0  Brentwood  \n",
       "\n",
       "[5 rows x 21 columns]"
      ]
     },
     "execution_count": 5,
     "metadata": {},
     "output_type": "execute_result"
    }
   ],
   "source": [
    "# print the first few rows of the first dataset\n",
    "data1.head()"
   ]
  },
  {
   "cell_type": "code",
   "execution_count": 6,
   "id": "375c9cb0",
   "metadata": {},
   "outputs": [
    {
     "data": {
      "text/html": [
       "<div>\n",
       "<style scoped>\n",
       "    .dataframe tbody tr th:only-of-type {\n",
       "        vertical-align: middle;\n",
       "    }\n",
       "\n",
       "    .dataframe tbody tr th {\n",
       "        vertical-align: top;\n",
       "    }\n",
       "\n",
       "    .dataframe thead th {\n",
       "        text-align: right;\n",
       "    }\n",
       "</style>\n",
       "<table border=\"1\" class=\"dataframe\">\n",
       "  <thead>\n",
       "    <tr style=\"text-align: right;\">\n",
       "      <th></th>\n",
       "      <th>id</th>\n",
       "      <th>dateAdded</th>\n",
       "      <th>dateUpdated</th>\n",
       "      <th>address</th>\n",
       "      <th>categories</th>\n",
       "      <th>primaryCategories</th>\n",
       "      <th>city</th>\n",
       "      <th>country</th>\n",
       "      <th>keys</th>\n",
       "      <th>latitude</th>\n",
       "      <th>...</th>\n",
       "      <th>menus.currency</th>\n",
       "      <th>menus.dateSeen</th>\n",
       "      <th>menus.description</th>\n",
       "      <th>menus.name</th>\n",
       "      <th>name</th>\n",
       "      <th>postalCode</th>\n",
       "      <th>priceRangeCurrency</th>\n",
       "      <th>priceRangeMin</th>\n",
       "      <th>priceRangeMax</th>\n",
       "      <th>province</th>\n",
       "    </tr>\n",
       "  </thead>\n",
       "  <tbody>\n",
       "    <tr>\n",
       "      <th>0</th>\n",
       "      <td>AVz3Y-7h3D1zeR_xDAqm</td>\n",
       "      <td>2017-06-30T05:05:40Z</td>\n",
       "      <td>2019-05-01T15:43:09Z</td>\n",
       "      <td>4203 E Kiehl Ave</td>\n",
       "      <td>Pizza,Restaurant,American restaurants,Pizza Pl...</td>\n",
       "      <td>Accommodation &amp; Food Services</td>\n",
       "      <td>Sherwood</td>\n",
       "      <td>US</td>\n",
       "      <td>us/ar/sherwood/4203ekiehlave/-1051391616</td>\n",
       "      <td>34.832300</td>\n",
       "      <td>...</td>\n",
       "      <td>USD</td>\n",
       "      <td>2018-05-01T04:25:37.197Z,2018-04-16T04:36:02.3...</td>\n",
       "      <td>NaN</td>\n",
       "      <td>Cheese Pizza</td>\n",
       "      <td>Shotgun Dans Pizza</td>\n",
       "      <td>72120</td>\n",
       "      <td>USD</td>\n",
       "      <td>0</td>\n",
       "      <td>25</td>\n",
       "      <td>AR</td>\n",
       "    </tr>\n",
       "    <tr>\n",
       "      <th>1</th>\n",
       "      <td>AVweGPFF_7pvs4fzAAzQ</td>\n",
       "      <td>2016-04-02T04:02:49Z</td>\n",
       "      <td>2019-05-01T15:27:50Z</td>\n",
       "      <td>25 E Camelback Rd</td>\n",
       "      <td>Pizza,Pizza Place,Restaurants</td>\n",
       "      <td>Accommodation &amp; Food Services</td>\n",
       "      <td>Phoenix</td>\n",
       "      <td>US</td>\n",
       "      <td>us/az/phoenix/25ecamelbackrd/-727422936</td>\n",
       "      <td>33.509266</td>\n",
       "      <td>...</td>\n",
       "      <td>USD</td>\n",
       "      <td>2018-03-03T02:38:06.381Z,2018-01-18T20:18:10.0...</td>\n",
       "      <td>NaN</td>\n",
       "      <td>Pizza Cookie</td>\n",
       "      <td>Sauce Pizza Wine</td>\n",
       "      <td>85012</td>\n",
       "      <td>USD</td>\n",
       "      <td>0</td>\n",
       "      <td>25</td>\n",
       "      <td>AZ</td>\n",
       "    </tr>\n",
       "    <tr>\n",
       "      <th>2</th>\n",
       "      <td>AVwdRGa9_7pvs4fz4E3K</td>\n",
       "      <td>2016-03-03T18:39:49Z</td>\n",
       "      <td>2019-05-01T12:52:25Z</td>\n",
       "      <td>3703 Paxton Ave</td>\n",
       "      <td>Restaurant,Pizza Place,Restaurants</td>\n",
       "      <td>Accommodation &amp; Food Services</td>\n",
       "      <td>Cincinnati</td>\n",
       "      <td>US</td>\n",
       "      <td>us/oh/cincinnati/3703paxtonave/-619797122</td>\n",
       "      <td>39.144883</td>\n",
       "      <td>...</td>\n",
       "      <td>USD</td>\n",
       "      <td>2018-04-10T07:58:34.585Z,2018-04-21T05:43:21.4...</td>\n",
       "      <td>a saucelessampcomma double cheese pizza with a...</td>\n",
       "      <td>Pizza Blanca</td>\n",
       "      <td>Mios Pizzeria</td>\n",
       "      <td>45209</td>\n",
       "      <td>USD</td>\n",
       "      <td>0</td>\n",
       "      <td>25</td>\n",
       "      <td>OH</td>\n",
       "    </tr>\n",
       "    <tr>\n",
       "      <th>3</th>\n",
       "      <td>AVwdX4psIN2L1WUfvJB1</td>\n",
       "      <td>2016-03-29T05:08:59Z</td>\n",
       "      <td>2019-05-01T12:52:20Z</td>\n",
       "      <td>30495 John R Rd</td>\n",
       "      <td>Pizza,Carry-out food,Pizza Place,Restaurants</td>\n",
       "      <td>Accommodation &amp; Food Services</td>\n",
       "      <td>Madison Heights</td>\n",
       "      <td>US</td>\n",
       "      <td>us/mi/madisonheights/30495johnrrd/-874863116</td>\n",
       "      <td>42.516669</td>\n",
       "      <td>...</td>\n",
       "      <td>USD</td>\n",
       "      <td>2016-10-20T21:50:02Z,2016-03-29T05:08:59Z</td>\n",
       "      <td>NaN</td>\n",
       "      <td>Small Pizza</td>\n",
       "      <td>Hungry Howies Pizza</td>\n",
       "      <td>48071</td>\n",
       "      <td>USD</td>\n",
       "      <td>25</td>\n",
       "      <td>40</td>\n",
       "      <td>MI</td>\n",
       "    </tr>\n",
       "    <tr>\n",
       "      <th>4</th>\n",
       "      <td>AVwdaeTtkufWRAb55pSH</td>\n",
       "      <td>2016-03-31T02:34:04Z</td>\n",
       "      <td>2019-05-01T12:50:45Z</td>\n",
       "      <td>3600 Eastern Ave</td>\n",
       "      <td>Pizza,American restaurants,Pizza Place,Pizza e...</td>\n",
       "      <td>Accommodation &amp; Food Services</td>\n",
       "      <td>Baltimore</td>\n",
       "      <td>US</td>\n",
       "      <td>us/md/baltimore/3600easternave/-1270965359</td>\n",
       "      <td>39.286630</td>\n",
       "      <td>...</td>\n",
       "      <td>USD</td>\n",
       "      <td>2016-03-31T02:34:04Z</td>\n",
       "      <td>NaN</td>\n",
       "      <td>Pizza Sub</td>\n",
       "      <td>Spartan Pizzeria</td>\n",
       "      <td>21224</td>\n",
       "      <td>USD</td>\n",
       "      <td>0</td>\n",
       "      <td>25</td>\n",
       "      <td>MD</td>\n",
       "    </tr>\n",
       "  </tbody>\n",
       "</table>\n",
       "<p>5 rows × 24 columns</p>\n",
       "</div>"
      ],
      "text/plain": [
       "                     id             dateAdded           dateUpdated  \\\n",
       "0  AVz3Y-7h3D1zeR_xDAqm  2017-06-30T05:05:40Z  2019-05-01T15:43:09Z   \n",
       "1  AVweGPFF_7pvs4fzAAzQ  2016-04-02T04:02:49Z  2019-05-01T15:27:50Z   \n",
       "2  AVwdRGa9_7pvs4fz4E3K  2016-03-03T18:39:49Z  2019-05-01T12:52:25Z   \n",
       "3  AVwdX4psIN2L1WUfvJB1  2016-03-29T05:08:59Z  2019-05-01T12:52:20Z   \n",
       "4  AVwdaeTtkufWRAb55pSH  2016-03-31T02:34:04Z  2019-05-01T12:50:45Z   \n",
       "\n",
       "             address                                         categories  \\\n",
       "0   4203 E Kiehl Ave  Pizza,Restaurant,American restaurants,Pizza Pl...   \n",
       "1  25 E Camelback Rd                      Pizza,Pizza Place,Restaurants   \n",
       "2    3703 Paxton Ave                 Restaurant,Pizza Place,Restaurants   \n",
       "3    30495 John R Rd       Pizza,Carry-out food,Pizza Place,Restaurants   \n",
       "4   3600 Eastern Ave  Pizza,American restaurants,Pizza Place,Pizza e...   \n",
       "\n",
       "               primaryCategories             city country  \\\n",
       "0  Accommodation & Food Services         Sherwood      US   \n",
       "1  Accommodation & Food Services          Phoenix      US   \n",
       "2  Accommodation & Food Services       Cincinnati      US   \n",
       "3  Accommodation & Food Services  Madison Heights      US   \n",
       "4  Accommodation & Food Services        Baltimore      US   \n",
       "\n",
       "                                           keys   latitude  ...  \\\n",
       "0      us/ar/sherwood/4203ekiehlave/-1051391616  34.832300  ...   \n",
       "1       us/az/phoenix/25ecamelbackrd/-727422936  33.509266  ...   \n",
       "2     us/oh/cincinnati/3703paxtonave/-619797122  39.144883  ...   \n",
       "3  us/mi/madisonheights/30495johnrrd/-874863116  42.516669  ...   \n",
       "4    us/md/baltimore/3600easternave/-1270965359  39.286630  ...   \n",
       "\n",
       "   menus.currency                                     menus.dateSeen  \\\n",
       "0             USD  2018-05-01T04:25:37.197Z,2018-04-16T04:36:02.3...   \n",
       "1             USD  2018-03-03T02:38:06.381Z,2018-01-18T20:18:10.0...   \n",
       "2             USD  2018-04-10T07:58:34.585Z,2018-04-21T05:43:21.4...   \n",
       "3             USD          2016-10-20T21:50:02Z,2016-03-29T05:08:59Z   \n",
       "4             USD                               2016-03-31T02:34:04Z   \n",
       "\n",
       "                                   menus.description    menus.name  \\\n",
       "0                                                NaN  Cheese Pizza   \n",
       "1                                                NaN  Pizza Cookie   \n",
       "2  a saucelessampcomma double cheese pizza with a...  Pizza Blanca   \n",
       "3                                                NaN   Small Pizza   \n",
       "4                                                NaN     Pizza Sub   \n",
       "\n",
       "                  name postalCode priceRangeCurrency priceRangeMin  \\\n",
       "0   Shotgun Dans Pizza      72120                USD             0   \n",
       "1     Sauce Pizza Wine      85012                USD             0   \n",
       "2        Mios Pizzeria      45209                USD             0   \n",
       "3  Hungry Howies Pizza      48071                USD            25   \n",
       "4     Spartan Pizzeria      21224                USD             0   \n",
       "\n",
       "  priceRangeMax province  \n",
       "0            25       AR  \n",
       "1            25       AZ  \n",
       "2            25       OH  \n",
       "3            40       MI  \n",
       "4            25       MD  \n",
       "\n",
       "[5 rows x 24 columns]"
      ]
     },
     "execution_count": 6,
     "metadata": {},
     "output_type": "execute_result"
    }
   ],
   "source": [
    "# print the first few rows of the second dataset\n",
    "data2.head()"
   ]
  },
  {
   "cell_type": "markdown",
   "id": "58dac58e",
   "metadata": {},
   "source": [
    "There are two datasets to use for this project.\n",
    "\n",
    "data1 is a list of over 3,500 pizzas from multiple restaurants. \n",
    "- curated dataset of pizza-only restaurants in Datafiniti's business database. \n",
    "- Useful for pizza-specific analyses.\n",
    "\n",
    "Data2 is a list of 10,000 pizza restaurants in Datafiniti's business database, spanning **from January 2018 to May 2019**.\n",
    "- larger, broader subset of Datafiniti's business database.\n",
    "- useful to analyze pizza restaurants in comparison to other types of restaurants. "
   ]
  },
  {
   "cell_type": "code",
   "execution_count": 7,
   "id": "b0355028",
   "metadata": {},
   "outputs": [
    {
     "name": "stdout",
     "output_type": "stream",
     "text": [
      "<class 'pandas.core.frame.DataFrame'>\n",
      "RangeIndex: 3510 entries, 0 to 3509\n",
      "Data columns (total 21 columns):\n",
      " #   Column              Non-Null Count  Dtype  \n",
      "---  ------              --------------  -----  \n",
      " 0   id                  3510 non-null   object \n",
      " 1   address             3510 non-null   object \n",
      " 2   categories          3510 non-null   object \n",
      " 3   city                3510 non-null   object \n",
      " 4   country             3510 non-null   object \n",
      " 5   keys                3510 non-null   object \n",
      " 6   latitude            3510 non-null   float64\n",
      " 7   longitude           3510 non-null   float64\n",
      " 8   menuPageURL         610 non-null    object \n",
      " 9   menus.amountMax     2948 non-null   float64\n",
      " 10  menus.amountMin     2948 non-null   float64\n",
      " 11  menus.currency      2951 non-null   object \n",
      " 12  menus.dateSeen      3510 non-null   object \n",
      " 13  menus.description   1526 non-null   object \n",
      " 14  menus.name          3510 non-null   object \n",
      " 15  name                3510 non-null   object \n",
      " 16  postalCode          3484 non-null   object \n",
      " 17  priceRangeCurrency  1557 non-null   object \n",
      " 18  priceRangeMin       1557 non-null   float64\n",
      " 19  priceRangeMax       1557 non-null   float64\n",
      " 20  province            3510 non-null   object \n",
      "dtypes: float64(6), object(15)\n",
      "memory usage: 576.0+ KB\n",
      "<class 'pandas.core.frame.DataFrame'>\n",
      "RangeIndex: 10000 entries, 0 to 9999\n",
      "Data columns (total 24 columns):\n",
      " #   Column              Non-Null Count  Dtype  \n",
      "---  ------              --------------  -----  \n",
      " 0   id                  10000 non-null  object \n",
      " 1   dateAdded           10000 non-null  object \n",
      " 2   dateUpdated         10000 non-null  object \n",
      " 3   address             10000 non-null  object \n",
      " 4   categories          10000 non-null  object \n",
      " 5   primaryCategories   10000 non-null  object \n",
      " 6   city                10000 non-null  object \n",
      " 7   country             10000 non-null  object \n",
      " 8   keys                10000 non-null  object \n",
      " 9   latitude            10000 non-null  float64\n",
      " 10  longitude           10000 non-null  float64\n",
      " 11  menuPageURL         1679 non-null   object \n",
      " 12  menus.amountMax     10000 non-null  float64\n",
      " 13  menus.amountMin     10000 non-null  float64\n",
      " 14  menus.currency      10000 non-null  object \n",
      " 15  menus.dateSeen      10000 non-null  object \n",
      " 16  menus.description   3718 non-null   object \n",
      " 17  menus.name          10000 non-null  object \n",
      " 18  name                10000 non-null  object \n",
      " 19  postalCode          9996 non-null   object \n",
      " 20  priceRangeCurrency  10000 non-null  object \n",
      " 21  priceRangeMin       10000 non-null  int64  \n",
      " 22  priceRangeMax       10000 non-null  int64  \n",
      " 23  province            10000 non-null  object \n",
      "dtypes: float64(4), int64(2), object(18)\n",
      "memory usage: 1.8+ MB\n"
     ]
    }
   ],
   "source": [
    "data1.info()\n",
    "data2.info()"
   ]
  },
  {
   "cell_type": "markdown",
   "id": "e5c1a275",
   "metadata": {},
   "source": [
    "This project uses two datasets. \n",
    "\n",
    "Dataset 1: 8358_1.csv \n",
    "- This dataset contains information on pizza restaurants and the types of Pizza they sell.\n",
    "- It has 3,519 rows and 21 columns.\n",
    "- There are a few features with missing values.\n",
    "\n",
    "Dataset 2: Datafiniti_Pizza_Restaurants_and_the_Pizza_They_Sell_May19.csv\n",
    "- list of 10,000 restaurants in Datafiniti's business database between January 2018 and May 2019\n",
    "- There are 24 feature columns\n",
    "- Business listings include a variation of the phrase Pizza within the categories and menu.name variables \n",
    "- fields have been flattened to make it easier to work with\n",
    "- This dataset is a sample of a larger dataset that is available through Datafiniti's business database.\n"
   ]
  },
  {
   "cell_type": "markdown",
   "id": "1fccb0cf",
   "metadata": {},
   "source": [
    "## Data2 Datafiniti Pizza Restaurants and the Pizza They Sell (May19)"
   ]
  },
  {
   "cell_type": "code",
   "execution_count": 8,
   "id": "f4f4d6ce",
   "metadata": {},
   "outputs": [
    {
     "data": {
      "text/html": [
       "<div>\n",
       "<style scoped>\n",
       "    .dataframe tbody tr th:only-of-type {\n",
       "        vertical-align: middle;\n",
       "    }\n",
       "\n",
       "    .dataframe tbody tr th {\n",
       "        vertical-align: top;\n",
       "    }\n",
       "\n",
       "    .dataframe thead th {\n",
       "        text-align: right;\n",
       "    }\n",
       "</style>\n",
       "<table border=\"1\" class=\"dataframe\">\n",
       "  <thead>\n",
       "    <tr style=\"text-align: right;\">\n",
       "      <th></th>\n",
       "      <th>latitude</th>\n",
       "      <th>longitude</th>\n",
       "      <th>menus.amountMax</th>\n",
       "      <th>menus.amountMin</th>\n",
       "      <th>priceRangeMin</th>\n",
       "      <th>priceRangeMax</th>\n",
       "    </tr>\n",
       "  </thead>\n",
       "  <tbody>\n",
       "    <tr>\n",
       "      <th>count</th>\n",
       "      <td>10000.000000</td>\n",
       "      <td>10000.000000</td>\n",
       "      <td>10000.000000</td>\n",
       "      <td>10000.000000</td>\n",
       "      <td>10000.000000</td>\n",
       "      <td>10000.000000</td>\n",
       "    </tr>\n",
       "    <tr>\n",
       "      <th>mean</th>\n",
       "      <td>38.371895</td>\n",
       "      <td>-90.063800</td>\n",
       "      <td>14.032670</td>\n",
       "      <td>13.416902</td>\n",
       "      <td>4.655500</td>\n",
       "      <td>27.764200</td>\n",
       "    </tr>\n",
       "    <tr>\n",
       "      <th>std</th>\n",
       "      <td>4.573537</td>\n",
       "      <td>17.340379</td>\n",
       "      <td>17.607233</td>\n",
       "      <td>10.742678</td>\n",
       "      <td>9.828412</td>\n",
       "      <td>6.017526</td>\n",
       "    </tr>\n",
       "    <tr>\n",
       "      <th>min</th>\n",
       "      <td>21.421326</td>\n",
       "      <td>-157.802443</td>\n",
       "      <td>0.000000</td>\n",
       "      <td>0.000000</td>\n",
       "      <td>0.000000</td>\n",
       "      <td>7.000000</td>\n",
       "    </tr>\n",
       "    <tr>\n",
       "      <th>25%</th>\n",
       "      <td>34.422946</td>\n",
       "      <td>-104.801126</td>\n",
       "      <td>8.490000</td>\n",
       "      <td>8.000000</td>\n",
       "      <td>0.000000</td>\n",
       "      <td>25.000000</td>\n",
       "    </tr>\n",
       "    <tr>\n",
       "      <th>50%</th>\n",
       "      <td>40.118880</td>\n",
       "      <td>-82.909949</td>\n",
       "      <td>13.390000</td>\n",
       "      <td>12.990000</td>\n",
       "      <td>0.000000</td>\n",
       "      <td>25.000000</td>\n",
       "    </tr>\n",
       "    <tr>\n",
       "      <th>75%</th>\n",
       "      <td>40.905048</td>\n",
       "      <td>-75.194741</td>\n",
       "      <td>17.950000</td>\n",
       "      <td>16.990000</td>\n",
       "      <td>0.000000</td>\n",
       "      <td>25.000000</td>\n",
       "    </tr>\n",
       "    <tr>\n",
       "      <th>max</th>\n",
       "      <td>64.850500</td>\n",
       "      <td>-71.946170</td>\n",
       "      <td>1395.000000</td>\n",
       "      <td>243.000000</td>\n",
       "      <td>50.000000</td>\n",
       "      <td>55.000000</td>\n",
       "    </tr>\n",
       "  </tbody>\n",
       "</table>\n",
       "</div>"
      ],
      "text/plain": [
       "           latitude     longitude  menus.amountMax  menus.amountMin  \\\n",
       "count  10000.000000  10000.000000     10000.000000     10000.000000   \n",
       "mean      38.371895    -90.063800        14.032670        13.416902   \n",
       "std        4.573537     17.340379        17.607233        10.742678   \n",
       "min       21.421326   -157.802443         0.000000         0.000000   \n",
       "25%       34.422946   -104.801126         8.490000         8.000000   \n",
       "50%       40.118880    -82.909949        13.390000        12.990000   \n",
       "75%       40.905048    -75.194741        17.950000        16.990000   \n",
       "max       64.850500    -71.946170      1395.000000       243.000000   \n",
       "\n",
       "       priceRangeMin  priceRangeMax  \n",
       "count   10000.000000   10000.000000  \n",
       "mean        4.655500      27.764200  \n",
       "std         9.828412       6.017526  \n",
       "min         0.000000       7.000000  \n",
       "25%         0.000000      25.000000  \n",
       "50%         0.000000      25.000000  \n",
       "75%         0.000000      25.000000  \n",
       "max        50.000000      55.000000  "
      ]
     },
     "execution_count": 8,
     "metadata": {},
     "output_type": "execute_result"
    }
   ],
   "source": [
    "# Data distribution\n",
    "data2.describe()"
   ]
  },
  {
   "cell_type": "code",
   "execution_count": 9,
   "id": "8585ff93",
   "metadata": {},
   "outputs": [
    {
     "data": {
      "text/plain": [
       "id                       0\n",
       "address                  0\n",
       "categories               0\n",
       "city                     0\n",
       "country                  0\n",
       "keys                     0\n",
       "latitude                 0\n",
       "longitude                0\n",
       "menuPageURL           2900\n",
       "menus.amountMax        562\n",
       "menus.amountMin        562\n",
       "menus.currency         559\n",
       "menus.dateSeen           0\n",
       "menus.description     1984\n",
       "menus.name               0\n",
       "name                     0\n",
       "postalCode              26\n",
       "priceRangeCurrency    1953\n",
       "priceRangeMin         1953\n",
       "priceRangeMax         1953\n",
       "province                 0\n",
       "dtype: int64"
      ]
     },
     "execution_count": 9,
     "metadata": {},
     "output_type": "execute_result"
    }
   ],
   "source": [
    "# Check for missing values\n",
    "data1.isnull().sum()"
   ]
  },
  {
   "cell_type": "markdown",
   "id": "8dc9d5d8",
   "metadata": {},
   "source": [
    "There are a few features with missing values.\n",
    "\n",
    "- menuPageURL - 2,900 missing values ( Identifier/Link to the menu page on the business's website), leave as null and drop column\n",
    "- menu.amountMax - 562 missing values ( Maximum price of the menu item), impute with median\n",
    "- menus.amountMin - 562 missing values ( Minimum price of the menu item), impute with median\n",
    "- menus.currency - 559 missing values ( Currency of the menu item price), impute with mode\n",
    "- menus.description - 1984 missing values ( Description of the menu item)\n",
    "    - Options: drop column, impute with placeholder string (for NLP), or transform to binary variable\n",
    "- postalCode - 26 missing values ( Postal code of the business), impute with mode\n",
    "- priceRangeCurrency - 1953 missing values ( Currency of the price range), impute with mode\n",
    "- priceRangeMin - 1953 missing values ( Minimum price of the price range), impute with median\n",
    "- priceRangeMax - 1953 missing values ( Maximum price of the price range), impute with median\n"
   ]
  },
  {
   "cell_type": "code",
   "execution_count": 10,
   "id": "212a7d18",
   "metadata": {},
   "outputs": [
    {
     "data": {
      "text/plain": [
       "dateAdded             0\n",
       "dateUpdated           0\n",
       "primaryCategories     0\n",
       "city                  0\n",
       "country               0\n",
       "latitude              0\n",
       "longitude             0\n",
       "menus.amountMax       0\n",
       "menus.amountMin       0\n",
       "menus.currency        0\n",
       "menus.dateSeen        0\n",
       "menus.name            0\n",
       "name                  0\n",
       "postalCode            0\n",
       "priceRangeCurrency    0\n",
       "priceRangeMin         0\n",
       "priceRangeMax         0\n",
       "province              0\n",
       "has_description       0\n",
       "dtype: int64"
      ]
     },
     "execution_count": 10,
     "metadata": {},
     "output_type": "execute_result"
    }
   ],
   "source": [
    "# Remove identifier columns for modeling\n",
    "data2_cleaned = data2.drop(columns=['id', 'categories', 'address', 'keys', 'menuPageURL']).copy()\n",
    "\n",
    "# Impute missing values for numeric columns with the mean\n",
    "num_cols = data2_cleaned.select_dtypes(include=['float64', 'int64']).columns\n",
    "data2_cleaned[num_cols] = data2_cleaned[num_cols].fillna(data2_cleaned[num_cols].mean())\n",
    "\n",
    "# Impute missing values for categorical columns with the mode\n",
    "cat_cols = ['menus.currency', 'postalCode','priceRangeCurrency']\n",
    "for col in cat_cols:\n",
    "    mode_value = data2_cleaned[col].mode()[0]\n",
    "    data2_cleaned[col] = data2_cleaned[col].fillna(mode_value)\n",
    "\n",
    "# Create binary feature for menus.description and drop original column\n",
    "data2_cleaned['has_description'] = np.where(data2_cleaned['menus.description'].notnull(), 1, 0)\n",
    "data2_cleaned = data2_cleaned.drop(columns=['menus.description'])\n",
    "\n",
    "# Verify no missing values remain\n",
    "data2_cleaned.isnull().sum()"
   ]
  },
  {
   "cell_type": "code",
   "execution_count": null,
   "id": "15f17c1e",
   "metadata": {},
   "outputs": [
    {
     "data": {
      "image/png": "[encoded data removed]",
      "text/plain": [
       "<Figure size 1000x600 with 1 Axes>"
      ]
     },
     "metadata": {},
     "output_type": "display_data"
    }
   ],
   "source": [
    "# Select numerical columns in Dataset 2\n",
    "num_columns = data2_cleaned.select_dtypes(include=['float64','int64']).columns\n",
    "\n",
    "# Boxplot for numerical features in Dataset 2\n",
    "plt.figure(figsize=(10,6))\n",
    "sns.boxplot(data=data2_cleaned[num_cols], orient='h')\n",
    "plt.title('Boxplot of Numerical Features in Datafiniti Pizza Restaurants Dataset')\n",
    "plt.xticks(rotation=45)\n",
    "plt.show()\n"
   ]
  },
  {
   "cell_type": "markdown",
   "id": "347b3cd7",
   "metadata": {},
   "source": [
    "Menus.amountMax has an extreme outlier of a pizza that cost $1,395. This extreme value may be due to a data entry error or an expensive restaurant selling a luxury pizza. The outlier can be removed for analysis"
   ]
  },
  {
   "cell_type": "code",
   "execution_count": 15,
   "id": "e3c057b4",
   "metadata": {},
   "outputs": [],
   "source": [
    "# remove the outlier in menus.amountMax\n",
    "data2_cleaned = data2_cleaned[data2_cleaned['menus.amountMax']<500]\n"
   ]
  },
  {
   "cell_type": "code",
   "execution_count": 16,
   "id": "fce08a59",
   "metadata": {},
   "outputs": [
    {
     "data": {
      "image/png": "[encoded data removed]",
      "text/plain": [
       "<Figure size 1000x600 with 1 Axes>"
      ]
     },
     "metadata": {},
     "output_type": "display_data"
    }
   ],
   "source": [
    "# Recheck data distribution after removig outlier\n",
    "# Boxplot for numerical features in Dataset 2\n",
    "plt.figure(figsize=(10,6))\n",
    "sns.boxplot(data=data2_cleaned[num_cols], orient='h')\n",
    "plt.title('Boxplot of Numerical Features in Datafiniti Pizza Restaurants Dataset')\n",
    "plt.xticks(rotation=45)\n",
    "plt.show()"
   ]
  },
  {
   "cell_type": "markdown",
   "id": "5d318d1e",
   "metadata": {},
   "source": [
    "A clear distribution of numerical feature can be seen once the extream outleir is removed. "
   ]
  },
  {
   "cell_type": "code",
   "execution_count": 22,
   "id": "25b0c97c",
   "metadata": {},
   "outputs": [
    {
     "data": {
      "image/png": "[encoded data removed]",
      "text/plain": [
       "<Figure size 1000x1000 with 6 Axes>"
      ]
     },
     "metadata": {},
     "output_type": "display_data"
    }
   ],
   "source": [
    "# Feature distribution of numeric features in Dataset 2 \n",
    "data2_cleaned[num_cols].hist(figsize=(10,10),bins=15)\n",
    "plt.suptitle(\"Distribution of Numeric Features in Datafiniti Pizza Restaurants Dataset\", fontsize =16)\n",
    "plt.show()"
   ]
  },
  {
   "cell_type": "markdown",
   "id": "f7055905",
   "metadata": {},
   "source": [
    "This histogram also provides a clear visualization of the distribution of the numeric feature. \n",
    "\n",
    "Longitude and latitude are continuous variables and display pizza location information.\n",
    "-Options: keep as is, view mapping, compute distance reference point, group into regions, or use postal code/ city/ province/state to group instead of raw coordinates. \n",
    "\n",
    "menus.ammount Max and Min are continuous variabels that display the price range of menu items. These variables are skewed right. (will need normalization/transformation for modeling)\n",
    "\n",
    "priceRange Min and Max look as though they are categorical variables with numeric values. Likely displaying similar information to menus.amount Max and Min."
   ]
  },
  {
   "cell_type": "code",
   "execution_count": 23,
   "id": "05910491",
   "metadata": {},
   "outputs": [
    {
     "data": {
      "text/plain": [
       "<Axes: >"
      ]
     },
     "execution_count": 23,
     "metadata": {},
     "output_type": "execute_result"
    },
    {
     "data": {
      "image/png": "[encoded data removed]",
      "text/plain": [
       "<Figure size 640x480 with 2 Axes>"
      ]
     },
     "metadata": {},
     "output_type": "display_data"
    }
   ],
   "source": [
    "# Plot heatmap to visualize correlations\n",
    "plt.figuresize=(10,8)\n",
    "# creating mask to display only one triangle of the heatmap\n",
    "mask = np.triu(np.ones_like(data2_cleaned[num_cols].corr()))\n",
    "\n",
    "sns.heatmap(data2_cleaned[num_cols].corr(), annot=True, fmt=\".2f\", cmap='coolwarm', mask=mask)"
   ]
  },
  {
   "cell_type": "markdown",
   "id": "2e673d2a",
   "metadata": {},
   "source": [
    "Menus.amountMin and menus.amountMax are highly correlated (r = 0.98). One of these variables can be removed for modeling.\n",
    "\n",
    "pricRangeMin and priceRangeMax are also highly correlated (0.99). One of these variables can be removed for modeling.\n",
    "\n",
    "Will keep menus.amountMax, and priceRangeMax for modeling."
   ]
  },
  {
   "cell_type": "code",
   "execution_count": 24,
   "id": "c16691ae",
   "metadata": {},
   "outputs": [],
   "source": [
    "# Drop highly correlated features\n",
    "data2_cleaned = data2_cleaned.drop(columns=['menus.amountMin', 'priceRangeMin'])"
   ]
  },
  {
   "cell_type": "code",
   "execution_count": null,
   "id": "3156624f",
   "metadata": {},
   "outputs": [
    {
     "data": {
      "text/plain": [
       "dateAdded             2214\n",
       "dateUpdated           2193\n",
       "primaryCategories        8\n",
       "city                  1028\n",
       "country                  1\n",
       "latitude              2284\n",
       "longitude             2284\n",
       "menus.amountMax        772\n",
       "menus.currency           1\n",
       "menus.dateSeen        6303\n",
       "menus.name            4749\n",
       "name                  1827\n",
       "postalCode            1771\n",
       "priceRangeCurrency       1\n",
       "priceRangeMax           14\n",
       "province                44\n",
       "has_description          2\n",
       "dtype: int64"
      ]
     },
     "execution_count": 25,
     "metadata": {},
     "output_type": "execute_result"
    }
   ],
   "source": [
    "# Check the unique values across all columns in Dataset 2\n",
    "data2_cleaned.nunique()"
   ]
  },
  {
   "cell_type": "markdown",
   "id": "c94dfb14",
   "metadata": {},
   "source": [
    "## Data Wrangling and Pre-Processing"
   ]
  },
  {
   "cell_type": "markdown",
   "id": "93a88608",
   "metadata": {},
   "source": [
    "## Data Splitting"
   ]
  },
  {
   "cell_type": "markdown",
   "id": "61643f46",
   "metadata": {},
   "source": [
    "## Modeling Strategy"
   ]
  },
  {
   "cell_type": "markdown",
   "id": "4f3d7aac",
   "metadata": {},
   "source": [
    "# Validation and Testing "
   ]
  },
  {
   "cell_type": "markdown",
   "id": "7aa0d52e",
   "metadata": {},
   "source": [
    "# Results and final model selection"
   ]
  },
  {
   "cell_type": "markdown",
   "id": "439bcae5",
   "metadata": {},
   "source": [
    "# Discussion and Conclusion"
   ]
  }
 ],
 "metadata": {
  "kernelspec": {
   "display_name": "Python 3",
   "language": "python",
   "name": "python3"
  },
  "language_info": {
   "codemirror_mode": {
    "name": "ipython",
    "version": 3
   },
   "file_extension": ".py",
   "mimetype": "text/x-python",
   "name": "python",
   "nbconvert_exporter": "python",
   "pygments_lexer": "ipython3",
   "version": "3.10.18"
  }
 },
 "nbformat": 4,
 "nbformat_minor": 5
}
